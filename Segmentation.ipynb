{
 "cells": [
  {
   "cell_type": "code",
   "execution_count": 30,
   "metadata": {},
   "outputs": [],
   "source": [
    "import cv2\n",
    "import os\n",
    "import numpy as np"
   ]
  },
  {
   "cell_type": "code",
   "execution_count": 31,
   "metadata": {},
   "outputs": [],
   "source": [
    "def image_segmentation_algorithm(input_img):\n",
    "    \n",
    "    # Creating kernel\n",
    "    kernel = np.ones((2, 2), np.uint8)\n",
    "\n",
    "    # Using cv2.erode() method \n",
    "    img = cv2.resize(input_img, dsize=NEW_IMG_SIZE)\n",
    "    # img = cv2.erode(img, kernel, iterations = 5) \n",
    "    # img = cv2.dilate(img, kernel, iterations = 5)\n",
    "\n",
    "    twoDimage = img.reshape((-1,3))\n",
    "    twoDimage = np.float32(twoDimage)\n",
    "\n",
    "    criteria = (cv2.TERM_CRITERIA_EPS + cv2.TERM_CRITERIA_MAX_ITER, 10, 1.0)\n",
    "    K = 5\n",
    "    attempts=10\n",
    "\n",
    "    ret,label,center=cv2.kmeans(twoDimage,K,None,criteria,attempts,cv2.KMEANS_PP_CENTERS)\n",
    "    center = np.uint8(center)\n",
    "    res = center[label.flatten()]\n",
    "    result_image = res.reshape((img.shape))\n",
    "    \n",
    "    return result_image"
   ]
  },
  {
   "cell_type": "code",
   "execution_count": 32,
   "metadata": {},
   "outputs": [],
   "source": [
    "def reject_outliers(data, m=0.7):\n",
    "    return data[abs(data - np.mean(data)) < m * np.std(data)]"
   ]
  },
  {
   "cell_type": "code",
   "execution_count": 33,
   "metadata": {},
   "outputs": [],
   "source": [
    "def identify_center(input_img):\n",
    "\n",
    "    input_img = cv2.cvtColor(input_img, cv2.COLOR_RGB2HSV)\n",
    "\n",
    "    min_diff = np.min(np.abs(input_img[:,:,0] - 240 * np.ones(input_img.shape[:-1])))\n",
    "    blue_color = 240 + (min_diff if (240 + min_diff) in input_img else -min_diff)\n",
    "\n",
    "    h_range = 10\n",
    "\n",
    "    x_blues, y_blues = [], []\n",
    "\n",
    "    for i in range(input_img.shape[0]):\n",
    "        for j in range(input_img.shape[1]):\n",
    "            if input_img[i][j][0] >= (blue_color - h_range) and input_img[i][j][0] <= (blue_color + h_range):\n",
    "                x_blues.append(i)\n",
    "                y_blues.append(j)\n",
    "    \n",
    "    center_index = (int(np.median(reject_outliers(np.array(x_blues)))), int(np.median(reject_outliers(np.array(y_blues)))))\n",
    "\n",
    "    # is_blue = (input_img >= (blue_color - h_range) and input_img <= (blue_color + h_range))\n",
    "    # is_blue = is_blue[:, :, 0]\n",
    "\n",
    "    # print(np.where(is_blue))\n",
    "\n",
    "    # center_index = np.int32(np.mean(np.where(is_blue), axis=-1))\n",
    "\n",
    "    result_img = input_img\n",
    "\n",
    "    for deltax in range(-3, 3):\n",
    "        for deltay in range(-3, 3):\n",
    "            try:\n",
    "                red = np.array([180, 67, 80])\n",
    "                result_img[center_index[0] + deltax, center_index[1] + deltay, :] = np.array([0, 255, 0])\n",
    "            except:\n",
    "                print(\"On Edge\")\n",
    "\n",
    "    return cv2.cvtColor(result_img, cv2.COLOR_HSV2RGB)\n"
   ]
  },
  {
   "cell_type": "code",
   "execution_count": 37,
   "metadata": {},
   "outputs": [],
   "source": [
    "vidcap = cv2.VideoCapture('Stable.mov')\n",
    "\n",
    "success, image = vidcap.read()\n",
    "NEW_IMG_SIZE = (image.shape[1] // 10, image.shape[0] // 10)\n",
    "count = 1"
   ]
  },
  {
   "cell_type": "code",
   "execution_count": 35,
   "metadata": {},
   "outputs": [
    {
     "name": "stdout",
     "output_type": "stream",
     "text": [
      "CPU times: user 2min 37s, sys: 13.6 s, total: 2min 50s\n",
      "Wall time: 46.7 s\n"
     ]
    }
   ],
   "source": [
    "%%time\n",
    "while success:\n",
    "  cv2.imwrite(f\"processed/frame{count}.jpg\", image_segmentation_algorithm(image))     # save frame as JPEG file      \n",
    "  success, image = vidcap.read()\n",
    "  count += 1"
   ]
  },
  {
   "cell_type": "code",
   "execution_count": 38,
   "metadata": {},
   "outputs": [
    {
     "name": "stdout",
     "output_type": "stream",
     "text": [
      "CPU times: user 5.72 s, sys: 195 ms, total: 5.91 s\n",
      "Wall time: 6.06 s\n"
     ]
    }
   ],
   "source": [
    "%%time\n",
    "for i in range(1, 334):\n",
    "    cv2.imwrite(f\"centered/frame{i}.jpg\", identify_center(cv2.imread(f\"processed/frame{i}.jpg\")))"
   ]
  },
  {
   "cell_type": "code",
   "execution_count": null,
   "metadata": {},
   "outputs": [],
   "source": [
    "os.system(\"ffmpeg -framerate 30 -i processed/frame%d.jpg -c:v libx264 -r 30 new_output_3.mp4\")"
   ]
  }
 ],
 "metadata": {
  "kernelspec": {
   "display_name": "Python 3.10.8 64-bit",
   "language": "python",
   "name": "python3"
  },
  "language_info": {
   "codemirror_mode": {
    "name": "ipython",
    "version": 3
   },
   "file_extension": ".py",
   "mimetype": "text/x-python",
   "name": "python",
   "nbconvert_exporter": "python",
   "pygments_lexer": "ipython3",
   "version": "3.10.8"
  },
  "vscode": {
   "interpreter": {
    "hash": "aee8b7b246df8f9039afb4144a1f6fd8d2ca17a180786b69acc140d282b71a49"
   }
  }
 },
 "nbformat": 4,
 "nbformat_minor": 2
}
